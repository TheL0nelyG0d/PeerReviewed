{
 "cells": [
  {
   "cell_type": "markdown",
   "id": "19534ea9-5927-4246-ae70-ebc68040bb2d",
   "metadata": {
    "tags": []
   },
   "source": [
    "# Data Science Tools and Ecosystem"
   ]
  },
  {
   "cell_type": "markdown",
   "id": "94d8354c-82a0-4d9e-acec-720609a1650d",
   "metadata": {},
   "source": [
    "In this notebook, Data Science Tools and Ecosystem are summarized."
   ]
  },
  {
   "cell_type": "markdown",
   "id": "8ca664d8-e882-4be4-a985-65e02d068e64",
   "metadata": {},
   "source": [
    "Some of the popular languages that Data Scientists use are: "
   ]
  },
  {
   "cell_type": "markdown",
   "id": "41907c68-2e98-483b-9c18-eef424d7093b",
   "metadata": {},
   "source": [
    "Ordered List:\n",
    "    1. R\n",
    "    2. Python\n",
    "    3. C++"
   ]
  },
  {
   "cell_type": "markdown",
   "id": "882e2762-5e68-4d2f-a628-a4990bf3ec8c",
   "metadata": {},
   "source": [
    "**Objectives:**\n",
    "Ordered List\n",
    "1. Learn Data Science Languages\n",
    "2. Learn Data Science Libraries\n",
    "3. Learn Data Science Tools\n"
   ]
  },
  {
   "cell_type": "markdown",
   "id": "5f8d6eb6-e960-4903-9ec1-c2551dd19e21",
   "metadata": {},
   "source": [
    "Some of the commonly used libraries used by Data Scientists include:"
   ]
  },
  {
   "cell_type": "markdown",
   "id": "9eb795c0-f8dd-4a8b-8d6c-28b6886fbbb4",
   "metadata": {},
   "source": [
    "Ordered List:\n",
    "    1. Numpy\n",
    "    2. Panda\n",
    "    3. TenserFlow"
   ]
  },
  {
   "cell_type": "markdown",
   "id": "1429b178-3c5c-475d-a1cc-8cee3a53c168",
   "metadata": {},
   "source": [
    "Data Science Tools:"
   ]
  },
  {
   "cell_type": "markdown",
   "id": "a0fbcb23-fe6f-4892-a873-9a0077faf525",
   "metadata": {},
   "source": [
    "Ordered List:\n",
    "    1. Google Charts\n",
    "    2. KNIME\n",
    "    3. Orange"
   ]
  },
  {
   "cell_type": "markdown",
   "id": "3a86af75-79e1-4c6e-b836-4fd1aa66bdbb",
   "metadata": {},
   "source": [
    "Below are a few examples of evaluating arithmetic expressions in Python"
   ]
  },
  {
   "cell_type": "code",
   "execution_count": 5,
   "id": "92305faa-72cb-4684-acc8-e554bbb05ff7",
   "metadata": {
    "tags": []
   },
   "outputs": [
    {
     "data": {
      "text/plain": [
       "100"
      ]
     },
     "execution_count": 5,
     "metadata": {},
     "output_type": "execute_result"
    }
   ],
   "source": [
    "10*10"
   ]
  },
  {
   "cell_type": "markdown",
   "id": "b6629e2e-23f1-4a11-ac5f-f5de5d151e3d",
   "metadata": {},
   "source": [
    "This a simple arithmetic expression to mutiply then add integers"
   ]
  },
  {
   "cell_type": "code",
   "execution_count": 6,
   "id": "7361c915-514c-495b-b86f-7a22412a56d2",
   "metadata": {
    "tags": []
   },
   "outputs": [
    {
     "data": {
      "text/plain": [
       "17"
      ]
     },
     "execution_count": 6,
     "metadata": {},
     "output_type": "execute_result"
    }
   ],
   "source": [
    "(3*4)+5"
   ]
  },
  {
   "cell_type": "markdown",
   "id": "036fa9a4-c494-44e2-984f-0dbc7c1751b7",
   "metadata": {},
   "source": [
    "This will convert 200 minutes to hours by diving by 60"
   ]
  },
  {
   "cell_type": "code",
   "execution_count": 7,
   "id": "df15f9f7-6327-4940-8ac1-528c4d635037",
   "metadata": {
    "tags": []
   },
   "outputs": [
    {
     "data": {
      "text/plain": [
       "3.3333333333333335"
      ]
     },
     "execution_count": 7,
     "metadata": {},
     "output_type": "execute_result"
    }
   ],
   "source": [
    "200/60"
   ]
  },
  {
   "cell_type": "markdown",
   "id": "6166a97b-7eba-4b4d-ac8f-9e3aa97c53c6",
   "metadata": {},
   "source": [
    "## Author\n",
    "\n",
    "Çetin ERDEM"
   ]
  },
  {
   "cell_type": "code",
   "execution_count": null,
   "id": "2930df26-2747-4e1a-8f7f-2774afcacb72",
   "metadata": {},
   "outputs": [],
   "source": []
  }
 ],
 "metadata": {
  "kernelspec": {
   "display_name": "Python",
   "language": "python",
   "name": "conda-env-python-py"
  },
  "language_info": {
   "codemirror_mode": {
    "name": "ipython",
    "version": 3
   },
   "file_extension": ".py",
   "mimetype": "text/x-python",
   "name": "python",
   "nbconvert_exporter": "python",
   "pygments_lexer": "ipython3",
   "version": "3.7.12"
  }
 },
 "nbformat": 4,
 "nbformat_minor": 5
}
